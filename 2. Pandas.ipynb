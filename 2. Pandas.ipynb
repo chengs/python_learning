{
 "cells": [
  {
   "cell_type": "markdown",
   "metadata": {},
   "source": [
    "## Pandas 技巧"
   ]
  },
  {
   "cell_type": "code",
   "execution_count": 14,
   "metadata": {
    "collapsed": false
   },
   "outputs": [
    {
     "data": {
      "text/html": [
       "<div>\n",
       "<table border=\"1\" class=\"dataframe\">\n",
       "  <thead>\n",
       "    <tr style=\"text-align: right;\">\n",
       "      <th></th>\n",
       "      <th>phone</th>\n",
       "      <th>latitude</th>\n",
       "      <th>longitude</th>\n",
       "      <th>datetime</th>\n",
       "      <th>duration</th>\n",
       "    </tr>\n",
       "  </thead>\n",
       "  <tbody>\n",
       "    <tr>\n",
       "      <th>0</th>\n",
       "      <td>00050C1891C1DBF6C9ECA6ADED2BE6DE</td>\n",
       "      <td>19.289000</td>\n",
       "      <td>-99.005997</td>\n",
       "      <td>15/10/2014 22:10:41</td>\n",
       "      <td>48</td>\n",
       "    </tr>\n",
       "    <tr>\n",
       "      <th>1</th>\n",
       "      <td>00050C1891C1DBF6C9ECA6ADED2BE6DE</td>\n",
       "      <td>19.289000</td>\n",
       "      <td>-99.005997</td>\n",
       "      <td>15/10/2014 21:09:28</td>\n",
       "      <td>78</td>\n",
       "    </tr>\n",
       "    <tr>\n",
       "      <th>2</th>\n",
       "      <td>0006EBC091C7E79FA9BF9164528929F8</td>\n",
       "      <td>19.463314</td>\n",
       "      <td>-99.146431</td>\n",
       "      <td>15/10/2014 13:01:33</td>\n",
       "      <td>22</td>\n",
       "    </tr>\n",
       "    <tr>\n",
       "      <th>3</th>\n",
       "      <td>0006EBC091C7E79FA9BF9164528929F8</td>\n",
       "      <td>19.471701</td>\n",
       "      <td>-99.140297</td>\n",
       "      <td>15/10/2014 07:07:51</td>\n",
       "      <td>29</td>\n",
       "    </tr>\n",
       "    <tr>\n",
       "      <th>4</th>\n",
       "      <td>0006EBC091C7E79FA9BF9164528929F8</td>\n",
       "      <td>19.463314</td>\n",
       "      <td>-99.146431</td>\n",
       "      <td>15/10/2014 12:12:09</td>\n",
       "      <td>26</td>\n",
       "    </tr>\n",
       "  </tbody>\n",
       "</table>\n",
       "</div>"
      ],
      "text/plain": [
       "                              phone   latitude  longitude  \\\n",
       "0  00050C1891C1DBF6C9ECA6ADED2BE6DE  19.289000 -99.005997   \n",
       "1  00050C1891C1DBF6C9ECA6ADED2BE6DE  19.289000 -99.005997   \n",
       "2  0006EBC091C7E79FA9BF9164528929F8  19.463314 -99.146431   \n",
       "3  0006EBC091C7E79FA9BF9164528929F8  19.471701 -99.140297   \n",
       "4  0006EBC091C7E79FA9BF9164528929F8  19.463314 -99.146431   \n",
       "\n",
       "              datetime  duration  \n",
       "0  15/10/2014 22:10:41        48  \n",
       "1  15/10/2014 21:09:28        78  \n",
       "2  15/10/2014 13:01:33        22  \n",
       "3  15/10/2014 07:07:51        29  \n",
       "4  15/10/2014 12:12:09        26  "
      ]
     },
     "execution_count": 14,
     "metadata": {},
     "output_type": "execute_result"
    }
   ],
   "source": [
    "import pandas as pd\n",
    "# data\n",
    "locations = pd.read_csv('./data/locations.gz',sep='\\t',header=None, \n",
    "                        dtype={'latitude':pd.np.float32,'longitude':pd.np.float32,'duration':pd.np.int},\n",
    "                        names=['phone','latitude','longitude','datetime','duration'])\n",
    "locations.head()"
   ]
  },
  {
   "cell_type": "markdown",
   "metadata": {},
   "source": [
    "### 将字符串存储的日期变成日期object"
   ]
  },
  {
   "cell_type": "code",
   "execution_count": 16,
   "metadata": {
    "collapsed": false
   },
   "outputs": [
    {
     "data": {
      "text/plain": [
       "0   2014-10-15 22:10:41\n",
       "1   2014-10-15 21:09:28\n",
       "2   2014-10-15 13:01:33\n",
       "3   2014-10-15 07:07:51\n",
       "4   2014-10-15 12:12:09\n",
       "Name: datetime, dtype: datetime64[ns]"
      ]
     },
     "execution_count": 16,
     "metadata": {},
     "output_type": "execute_result"
    }
   ],
   "source": [
    "locations['datetime'] = pd.to_datetime(locations['datetime'],format=\"%d/%m/%Y %H:%M:%S\")\n",
    "locations['datetime'].head()"
   ]
  },
  {
   "cell_type": "markdown",
   "metadata": {},
   "source": [
    "### 按给定时间段resample并填充\n",
    "\n",
    "对于每个用户\n",
    "1. 合并30分钟之内的duration并求和\n",
    "2. 如果某个30分钟时间段没有duration那么该时间段不会出现，对这些时间段，填充0"
   ]
  },
  {
   "cell_type": "code",
   "execution_count": 39,
   "metadata": {
    "collapsed": false
   },
   "outputs": [
    {
     "data": {
      "text/plain": [
       "datetime\n",
       "2014-10-15 16:00:00    122.0\n",
       "2014-10-15 16:30:00      NaN\n",
       "2014-10-15 17:00:00      NaN\n",
       "2014-10-15 17:30:00      NaN\n",
       "2014-10-15 18:00:00    113.0\n",
       "2014-10-15 18:30:00      NaN\n",
       "2014-10-15 19:00:00    441.0\n",
       "2014-10-15 19:30:00      NaN\n",
       "2014-10-15 20:00:00    411.0\n",
       "Freq: 30T, Name: duration, dtype: float64"
      ]
     },
     "execution_count": 39,
     "metadata": {},
     "output_type": "execute_result"
    }
   ],
   "source": [
    "sub = locations.groupby('phone').get_group('000A8481F9274EEA3F994376973B23CE')\n",
    "\n",
    "# add DateTimeIndex\n",
    "samples = sub.set_index('datetime')['duration'].resample('30T').sum()\n",
    "samples"
   ]
  },
  {
   "cell_type": "markdown",
   "metadata": {},
   "source": [
    "1. 结果里面有NaN值\n",
    "2. 时间段不完整，只有16:00 到 20:00\n",
    "3. 需要填充一天的所有时间段"
   ]
  },
  {
   "cell_type": "code",
   "execution_count": 42,
   "metadata": {
    "collapsed": false
   },
   "outputs": [
    {
     "data": {
      "text/plain": [
       "2014-10-15 00:00:00      0.0\n",
       "2014-10-15 00:30:00      0.0\n",
       "2014-10-15 01:00:00      0.0\n",
       "2014-10-15 01:30:00      0.0\n",
       "2014-10-15 02:00:00      0.0\n",
       "2014-10-15 02:30:00      0.0\n",
       "2014-10-15 03:00:00      0.0\n",
       "2014-10-15 03:30:00      0.0\n",
       "2014-10-15 04:00:00      0.0\n",
       "2014-10-15 04:30:00      0.0\n",
       "2014-10-15 05:00:00      0.0\n",
       "2014-10-15 05:30:00      0.0\n",
       "2014-10-15 06:00:00      0.0\n",
       "2014-10-15 06:30:00      0.0\n",
       "2014-10-15 07:00:00      0.0\n",
       "2014-10-15 07:30:00      0.0\n",
       "2014-10-15 08:00:00      0.0\n",
       "2014-10-15 08:30:00      0.0\n",
       "2014-10-15 09:00:00      0.0\n",
       "2014-10-15 09:30:00      0.0\n",
       "2014-10-15 10:00:00      0.0\n",
       "2014-10-15 10:30:00      0.0\n",
       "2014-10-15 11:00:00      0.0\n",
       "2014-10-15 11:30:00      0.0\n",
       "2014-10-15 12:00:00      0.0\n",
       "2014-10-15 12:30:00      0.0\n",
       "2014-10-15 13:00:00      0.0\n",
       "2014-10-15 13:30:00      0.0\n",
       "2014-10-15 14:00:00      0.0\n",
       "2014-10-15 14:30:00      0.0\n",
       "2014-10-15 15:00:00      0.0\n",
       "2014-10-15 15:30:00      0.0\n",
       "2014-10-15 16:00:00    122.0\n",
       "2014-10-15 16:30:00      0.0\n",
       "2014-10-15 17:00:00      0.0\n",
       "2014-10-15 17:30:00      0.0\n",
       "2014-10-15 18:00:00    113.0\n",
       "2014-10-15 18:30:00      0.0\n",
       "2014-10-15 19:00:00    441.0\n",
       "2014-10-15 19:30:00      0.0\n",
       "2014-10-15 20:00:00    411.0\n",
       "2014-10-15 20:30:00      0.0\n",
       "2014-10-15 21:00:00      0.0\n",
       "2014-10-15 21:30:00      0.0\n",
       "2014-10-15 22:00:00      0.0\n",
       "2014-10-15 22:30:00      0.0\n",
       "2014-10-15 23:00:00      0.0\n",
       "2014-10-15 23:30:00      0.0\n",
       "Freq: 30T, Name: duration, dtype: float64"
      ]
     },
     "execution_count": 42,
     "metadata": {},
     "output_type": "execute_result"
    }
   ],
   "source": [
    "samples = samples.fillna(0.0)\n",
    "ranges = pd.date_range('15/10/2014',freq='30T',periods=48)\n",
    "samples = samples.reindex(ranges).fillna(0)\n",
    "samples"
   ]
  },
  {
   "cell_type": "markdown",
   "metadata": {},
   "source": [
    "### 获得数据里面的全部日期"
   ]
  },
  {
   "cell_type": "code",
   "execution_count": 48,
   "metadata": {
    "collapsed": false
   },
   "outputs": [
    {
     "data": {
      "text/plain": [
       "array([datetime.date(2014, 10, 15)], dtype=object)"
      ]
     },
     "execution_count": 48,
     "metadata": {},
     "output_type": "execute_result"
    }
   ],
   "source": [
    "locations['datetime'].map(lambda dt:dt.date()).unique()"
   ]
  },
  {
   "cell_type": "markdown",
   "metadata": {},
   "source": [
    "### 数据过滤的手段"
   ]
  },
  {
   "cell_type": "code",
   "execution_count": 50,
   "metadata": {
    "collapsed": false
   },
   "outputs": [
    {
     "data": {
      "text/html": [
       "<div>\n",
       "<table border=\"1\" class=\"dataframe\">\n",
       "  <thead>\n",
       "    <tr style=\"text-align: right;\">\n",
       "      <th></th>\n",
       "      <th>phone</th>\n",
       "      <th>latitude</th>\n",
       "      <th>longitude</th>\n",
       "      <th>datetime</th>\n",
       "      <th>duration</th>\n",
       "    </tr>\n",
       "  </thead>\n",
       "  <tbody>\n",
       "    <tr>\n",
       "      <th>0</th>\n",
       "      <td>00050C1891C1DBF6C9ECA6ADED2BE6DE</td>\n",
       "      <td>19.289000</td>\n",
       "      <td>-99.005997</td>\n",
       "      <td>2014-10-15 22:10:41</td>\n",
       "      <td>48</td>\n",
       "    </tr>\n",
       "    <tr>\n",
       "      <th>1</th>\n",
       "      <td>00050C1891C1DBF6C9ECA6ADED2BE6DE</td>\n",
       "      <td>19.289000</td>\n",
       "      <td>-99.005997</td>\n",
       "      <td>2014-10-15 21:09:28</td>\n",
       "      <td>78</td>\n",
       "    </tr>\n",
       "    <tr>\n",
       "      <th>2</th>\n",
       "      <td>0006EBC091C7E79FA9BF9164528929F8</td>\n",
       "      <td>19.463314</td>\n",
       "      <td>-99.146431</td>\n",
       "      <td>2014-10-15 13:01:33</td>\n",
       "      <td>22</td>\n",
       "    </tr>\n",
       "    <tr>\n",
       "      <th>3</th>\n",
       "      <td>0006EBC091C7E79FA9BF9164528929F8</td>\n",
       "      <td>19.471701</td>\n",
       "      <td>-99.140297</td>\n",
       "      <td>2014-10-15 07:07:51</td>\n",
       "      <td>29</td>\n",
       "    </tr>\n",
       "    <tr>\n",
       "      <th>4</th>\n",
       "      <td>0006EBC091C7E79FA9BF9164528929F8</td>\n",
       "      <td>19.463314</td>\n",
       "      <td>-99.146431</td>\n",
       "      <td>2014-10-15 12:12:09</td>\n",
       "      <td>26</td>\n",
       "    </tr>\n",
       "  </tbody>\n",
       "</table>\n",
       "</div>"
      ],
      "text/plain": [
       "                              phone   latitude  longitude            datetime  \\\n",
       "0  00050C1891C1DBF6C9ECA6ADED2BE6DE  19.289000 -99.005997 2014-10-15 22:10:41   \n",
       "1  00050C1891C1DBF6C9ECA6ADED2BE6DE  19.289000 -99.005997 2014-10-15 21:09:28   \n",
       "2  0006EBC091C7E79FA9BF9164528929F8  19.463314 -99.146431 2014-10-15 13:01:33   \n",
       "3  0006EBC091C7E79FA9BF9164528929F8  19.471701 -99.140297 2014-10-15 07:07:51   \n",
       "4  0006EBC091C7E79FA9BF9164528929F8  19.463314 -99.146431 2014-10-15 12:12:09   \n",
       "\n",
       "   duration  \n",
       "0        48  \n",
       "1        78  \n",
       "2        22  \n",
       "3        29  \n",
       "4        26  "
      ]
     },
     "execution_count": 50,
     "metadata": {},
     "output_type": "execute_result"
    }
   ],
   "source": [
    "locations=locations[locations['duration'].notnull()]\n",
    "locations_filtered = locations[locations['duration']>10]\n",
    "locations_filtered.head()"
   ]
  },
  {
   "cell_type": "code",
   "execution_count": null,
   "metadata": {
    "collapsed": true
   },
   "outputs": [],
   "source": []
  }
 ],
 "metadata": {
  "kernelspec": {
   "display_name": "Python 2",
   "language": "python",
   "name": "python2"
  },
  "language_info": {
   "codemirror_mode": {
    "name": "ipython",
    "version": 2
   },
   "file_extension": ".py",
   "mimetype": "text/x-python",
   "name": "python",
   "nbconvert_exporter": "python",
   "pygments_lexer": "ipython2",
   "version": "2.7.11"
  }
 },
 "nbformat": 4,
 "nbformat_minor": 0
}
